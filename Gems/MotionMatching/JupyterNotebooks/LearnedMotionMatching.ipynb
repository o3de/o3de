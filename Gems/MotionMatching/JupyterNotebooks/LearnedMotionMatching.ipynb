{
 "cells": [
  {
   "cell_type": "markdown",
   "id": "a45e3d25",
   "metadata": {},
   "source": [
    "# Load data helpers"
   ]
  },
  {
   "cell_type": "code",
   "execution_count": null,
   "id": "25a44238",
   "metadata": {},
   "outputs": [],
   "source": [
    "import numpy as np\n",
    "import pandas as pd\n",
    "\n",
    "def PrintGreen(text):\n",
    "    print('\\x1b[6;30;42m' + text + '\\x1b[0m')\n",
    "    \n",
    "def PrintRed(text):\n",
    "    print('\\33[41m' + text + '\\x1b[0m')\n",
    "\n",
    "def LoadData(filename, rowsName, columnsName):\n",
    "    newDataframe = pd.read_csv(filename, na_values = 'null')\n",
    "    if newDataframe.shape[0] > 0 and newDataframe.shape[1] > 0:\n",
    "        PrintGreen(\"Loading \" + filename + \" succeeded\");\n",
    "    else:\n",
    "        PrintRed(\"Loading \" + filename + \" failed!\");\n",
    "\n",
    "    print(rowsName + \" = \" + str(newDataframe.shape[0]))\n",
    "    print(columnsName + \" = \" + str(newDataframe.shape[1]))\n",
    "\n",
    "    return newDataframe\n",
    "\n",
    "# Ensure to show all columns\n",
    "pd.set_option('display.max_columns', None)"
   ]
  },
  {
   "cell_type": "markdown",
   "id": "15dab663",
   "metadata": {},
   "source": [
    "## Motion Database Poses\n",
    "Evaluated skeletal poses at a given sample rate. Position and rotation in local space. Rotation is represented as the X and Y basis vectors of the transform."
   ]
  },
  {
   "cell_type": "code",
   "execution_count": null,
   "id": "e41c7caf",
   "metadata": {},
   "outputs": [],
   "source": [
    "dataPoses = LoadData('E:/MotionMatchingDatabase_Poses_60Hz.csv', \"Frames\", \"PoseComponents\")\n",
    "dataPoses.head(15)"
   ]
  },
  {
   "cell_type": "markdown",
   "id": "36eba8ed",
   "metadata": {},
   "source": [
    "## Motion Database Features\n",
    "Feature matrix"
   ]
  },
  {
   "cell_type": "code",
   "execution_count": null,
   "id": "4d91693f",
   "metadata": {},
   "outputs": [],
   "source": [
    "dataFeatures = LoadData('E:/MotionMatchingDatabase_Features_60Hz.csv', \"Frames\", \"FeatureComponents\")\n",
    "\n",
    "if (dataPoses.shape[0] == dataFeatures.shape[0]):\n",
    "    PrintGreen(\"Frame numbers match.\")\n",
    "else:\n",
    "    PrintRed(\"Frame numbers do not match!\")\n",
    "\n",
    "dataFeatures.head(15)"
   ]
  },
  {
   "cell_type": "markdown",
   "id": "78160101",
   "metadata": {},
   "source": [
    "## Recorded data (Poses, features and best matching frames)"
   ]
  },
  {
   "cell_type": "code",
   "execution_count": null,
   "id": "213daccb",
   "metadata": {},
   "outputs": [],
   "source": [
    "recording_poses = LoadData('E:/RuntimeRecording_Poses.csv', \"Frames\", \"PoseComponents\")\n",
    "recording_features = LoadData('E:/RuntimeRecording_Features.csv', \"Frames\", \"FeatureComponents\")\n",
    "recording_bestMatchFrames = LoadData('E:/RuntimeRecording_BestMatchingFrames.csv', \"Frames\", \"BestMatchingFrameComponents\")\n",
    "\n",
    "if (recording_poses.shape[0] == recording_features.shape[0] == recording_bestMatchFrames.shape[0]):\n",
    "    PrintGreen(\"Frame numbers match.\")\n",
    "else:\n",
    "    PrintRed(\"Frame numbers do not match!\")"
   ]
  }
 ],
 "metadata": {
  "kernelspec": {
   "display_name": "Python 3.9.12 ('Python39')",
   "language": "python",
   "name": "python3"
  },
  "language_info": {
   "codemirror_mode": {
    "name": "ipython",
    "version": 3
   },
   "file_extension": ".py",
   "mimetype": "text/x-python",
   "name": "python",
   "nbconvert_exporter": "python",
   "pygments_lexer": "ipython3",
   "version": "3.9.12"
  },
  "vscode": {
   "interpreter": {
    "hash": "9c73e790938bd3582c17bb1a3c4b3aa5e6fd04d86c86356c0c7a8763f89d5096"
   }
  }
 },
 "nbformat": 4,
 "nbformat_minor": 5
}
